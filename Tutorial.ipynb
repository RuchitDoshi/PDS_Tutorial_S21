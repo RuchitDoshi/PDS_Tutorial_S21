{
 "cells": [
  {
   "cell_type": "markdown",
   "metadata": {},
   "source": [
    "## Introduction\n",
    "\n",
    "This tutorial will introduce you to some basic methods for text classification using the Torchtext library from Pytorch. Text classification, or Natural Language processing in general, is an important domain in Data Science because it helps to resolve ambiguity in language and adds useful numeric structure to the data fro many downstream applications. With NLP, Data Science aims to teach machines the underlying sense of human language. There are many tasks in the NLP domain such as speech recognition, speech to text conversion, sarcasm detection etc. For this tutorial, we will focus on sentiment analysis of tweets extracted from twitter. "
   ]
  },
  {
   "cell_type": "markdown",
   "metadata": {},
   "source": [
    "### Tutorial content\n",
    "\n",
    "In this tutorial, we will show how to do some basic text analysis in Python, specifically using [Pytorch](https://pytorch.org/).\n",
    "\n",
    "We'll be using dataset from this Kaggle challenge: https://www.kaggle.com/arkhoshghalb/twitter-sentiment-analysis-hatred-speech?select=train.csv.\n",
    "\n",
    "We will cover the following topics in this tutorial:\n",
    "- [Installing the libraries](#Installing-the-libraries)\n",
    "- [Loading data](#Loading-data)\n",
    "- [Building Vocab and DataLoader](#Building-Vocab-and-DataLoader)\n",
    "- [Recurrent Neural Networks and Model Architecture](#Recurrent-Neural-Networks-and-Model-Architecture)\n",
    "- [Train and evaluate](#Train-and-evaluate)\n",
    "- [Visualizations](#Visualizations)\n",
    "- [Summary and References](#Summary-and-References)"
   ]
  },
  {
   "cell_type": "markdown",
   "metadata": {},
   "source": [
    "## Installing the libraries"
   ]
  },
  {
   "cell_type": "markdown",
   "metadata": {},
   "source": [
    "Before getting started, you'll need to install the various libraries that we will use.  You can install Pytorch, torchtext, and pandas using `pip`:\n",
    "   \n",
    "    $ pip install pytorch\n",
    "    \n",
    "    $ pip install torchtext\n",
    "    \n",
    "Note that there are different verisons of torchtext each having compatibiltiy Python versions. In order to use the latest update of torchtext, Python 3.6+ is required.\n",
    "\n",
    "The other libraries like torch.nn, torch.optim will be automatically installed as a dependency of Pytorch\n",
    "\n",
    "In order to utilize different types of tokenizer which used in torchtext library (will be explained later in detail), we need to install optional requirements (used in this tutorial) using `pip` and `python`:\n",
    "\n",
    "    $ pip install spacy\n",
    "    \n",
    "    $ python -m spacy download en_core_web_sm"
   ]
  },
  {
   "cell_type": "code",
   "execution_count": 1,
   "metadata": {},
   "outputs": [],
   "source": [
    "import numpy as np\n",
    "import pandas as pd\n",
    "import torch\n",
    "import torch.nn as nn\n",
    "import torch.optim as optim\n",
    "from torch.nn.utils.rnn import *\n",
    "from torchtext.legacy import data\n",
    "warnings.filterwarnings(\"ignore\")"
   ]
  },
  {
   "cell_type": "markdown",
   "metadata": {},
   "source": [
    "## Loading data"
   ]
  },
  {
   "cell_type": "markdown",
   "metadata": {},
   "source": [
    "Now that we've installed and loaded the libraries, let's load our twitter sentiment analysis data.  We're going to load data provided in the \"csv\" format using the pandas library. This is done just to explore the dataset before we start buidling models. \n",
    "\n",
    "For this tutorial propose, we will only be using the 'train.csv' which can be downloaded from https://www.kaggle.com/arkhoshghalb/twitter-sentiment-analysis-hatred-speech?select=train.csv.\n",
    "\n",
    "The objective of this tutorial will be detect hate speech in tweets. of simplicity, we say a tweet contains hate speech if it has a racist or sexist sentiment associated with it. So, the task is to classify racist or sexist tweets from other tweets.\n",
    "\n",
    "Formally, given a training sample of tweets and labels, where label '1' denotes the tweet is racist/sexist and label '0' denotes the tweet is not racist/sexist, your objective is to predict the labels on the test dataset."
   ]
  },
  {
   "cell_type": "code",
   "execution_count": 2,
   "metadata": {},
   "outputs": [
    {
     "data": {
      "text/html": [
       "<div>\n",
       "<style scoped>\n",
       "    .dataframe tbody tr th:only-of-type {\n",
       "        vertical-align: middle;\n",
       "    }\n",
       "\n",
       "    .dataframe tbody tr th {\n",
       "        vertical-align: top;\n",
       "    }\n",
       "\n",
       "    .dataframe thead th {\n",
       "        text-align: right;\n",
       "    }\n",
       "</style>\n",
       "<table border=\"1\" class=\"dataframe\">\n",
       "  <thead>\n",
       "    <tr style=\"text-align: right;\">\n",
       "      <th></th>\n",
       "      <th>id</th>\n",
       "      <th>label</th>\n",
       "      <th>tweet</th>\n",
       "    </tr>\n",
       "  </thead>\n",
       "  <tbody>\n",
       "    <tr>\n",
       "      <td>0</td>\n",
       "      <td>1</td>\n",
       "      <td>0</td>\n",
       "      <td>@user when a father is dysfunctional and is s...</td>\n",
       "    </tr>\n",
       "    <tr>\n",
       "      <td>1</td>\n",
       "      <td>2</td>\n",
       "      <td>0</td>\n",
       "      <td>@user @user thanks for #lyft credit i can't us...</td>\n",
       "    </tr>\n",
       "    <tr>\n",
       "      <td>2</td>\n",
       "      <td>3</td>\n",
       "      <td>0</td>\n",
       "      <td>bihday your majesty</td>\n",
       "    </tr>\n",
       "    <tr>\n",
       "      <td>3</td>\n",
       "      <td>4</td>\n",
       "      <td>0</td>\n",
       "      <td>#model   i love u take with u all the time in ...</td>\n",
       "    </tr>\n",
       "    <tr>\n",
       "      <td>4</td>\n",
       "      <td>5</td>\n",
       "      <td>0</td>\n",
       "      <td>factsguide: society now    #motivation</td>\n",
       "    </tr>\n",
       "  </tbody>\n",
       "</table>\n",
       "</div>"
      ],
      "text/plain": [
       "   id  label                                              tweet\n",
       "0   1      0   @user when a father is dysfunctional and is s...\n",
       "1   2      0  @user @user thanks for #lyft credit i can't us...\n",
       "2   3      0                                bihday your majesty\n",
       "3   4      0  #model   i love u take with u all the time in ...\n",
       "4   5      0             factsguide: society now    #motivation"
      ]
     },
     "execution_count": 2,
     "metadata": {},
     "output_type": "execute_result"
    }
   ],
   "source": [
    "dataset=pd.read_csv('train.csv')\n",
    "\n",
    "dataset.head()"
   ]
  },
  {
   "cell_type": "markdown",
   "metadata": {},
   "source": [
    "Here, the id is the tweet_id and is of no use for the purpose of this tutorial. The label field is the classification label suggesting whether a particular field is a hated speech or otherwise. The tweet is the actual tweet which is being classified."
   ]
  },
  {
   "cell_type": "markdown",
   "metadata": {},
   "source": [
    "Now, lets preprocess and make this dataset ready to be used by Pytorch models. For tutorial, we will be using the torchtext library from pytorch.\n",
    "\n",
    "**TorchText** is a Natural Language Processing (NLP) library in PyTorch. This library contains the scripts for preprocessing text and source of few popular NLP datasets and this imported using \n",
    "\n",
    "`from torchtext.legacy import data`"
   ]
  },
  {
   "cell_type": "markdown",
   "metadata": {},
   "source": [
    "Let us see how to use the Field objects for preprocessing the data using the Torchtext library. There are two types of field objects namely - Field and LabeLField. \n",
    "\n",
    "**Field** = This object from legacy.data module is used to specify the preprocessing steps for the independent columns.For this tutorial, it will be used for the `tweet` column. \n",
    "\n",
    "**LabelField** = LabelField object is a special case of Field object which is used only for the classification tasks. Its only use is to set the unk_token and sequential to None by default."
   ]
  },
  {
   "cell_type": "markdown",
   "metadata": {},
   "source": [
    "Before we use Field, let us look at the different parameters of Field and what are they used for.\n",
    "\n",
    "**Parameters of Field:**\n",
    "\n",
    "**Tokenize:** specifies the way of tokenizing the sentence i.e. converting sentence to words. We will be using the `spacy` tokenizer which is the most common English tokenizer. Alternatively, we can also use the Moses tokenizer. Details about these will be included in the references.\n",
    "\n",
    "**Lower:** converts text to lowercase\n",
    "\n",
    "**batch_first:** The first dimension of input and output is always batch size"
   ]
  },
  {
   "cell_type": "code",
   "execution_count": 3,
   "metadata": {},
   "outputs": [],
   "source": [
    "TEXT = data.Field(tokenize='spacy',batch_first=True,include_lengths=True)\n",
    "LABEL = data.LabelField(dtype = torch.float,batch_first=True)"
   ]
  },
  {
   "cell_type": "markdown",
   "metadata": {},
   "source": [
    "Now, we will be `TabularDataset` module which will be very useful for loading the custom dataset by providing the field objects for each column. \n",
    "\n",
    "In order to use this, we need to create a list of tuples wherein each tuple specify the column_name (in string) and the field type. For example, ('text', Text).\n",
    "\n",
    "To ignore some columns, like id in our case, the tuple should be (None,None)."
   ]
  },
  {
   "cell_type": "code",
   "execution_count": 4,
   "metadata": {},
   "outputs": [
    {
     "name": "stdout",
     "output_type": "stream",
     "text": [
      "{'label': '0', 'text': [' ', '@user', 'when', 'a', 'father', 'is', 'dysfunctional', 'and', 'is', 'so', 'selfish', 'he', 'drags', 'his', 'kids', 'into', 'his', 'dysfunction', '.', '  ', '#', 'run']}\n"
     ]
    }
   ],
   "source": [
    "#Creationg fields and Tabulardataset\n",
    "fields = [(None,None),('label', LABEL),('text',TEXT)] #corresponding to id,label,text columns\n",
    "alldata=data.TabularDataset(path = 'train.csv',format = 'csv',fields = fields,skip_header = True)\n",
    "\n",
    "#To print the preprocessed text\n",
    "print(vars(alldata.examples[0]))"
   ]
  },
  {
   "cell_type": "markdown",
   "metadata": {},
   "source": [
    "As we can see that, `TabularDataset` will make a dictionary for each datapoint with the column names as the key. This is very useful as it retrieve elements in constant complexity. \n",
    "\n",
    "We will now split the dataset into training and validation sets using the `TabularDFataset.split` function."
   ]
  },
  {
   "cell_type": "code",
   "execution_count": 5,
   "metadata": {},
   "outputs": [],
   "source": [
    "#splitting the dataset into training and validation subsets\n",
    "train_data, valid_data = alldata.split(split_ratio=0.7)"
   ]
  },
  {
   "cell_type": "markdown",
   "metadata": {},
   "source": [
    "## Building Vocab and DataLoader"
   ]
  },
  {
   "cell_type": "markdown",
   "metadata": {},
   "source": [
    "The next step is to build the vocabulary for the text and converting them into integer sequences. Intuitively, the vocabulary assigns the unique words to each index.\n",
    "\n",
    "After replacing each unique word with an index, we will be creating pretrained embeddings using the **GloVe: Global Vectors for Word Representation**. \n",
    "\n",
    "GloVe is an unsupervised learning algorithm for obtaining vector representations for words. Training is performed on aggregated global word-word co-occurrence statistics from a corpus, and the resulting representations showcase interesting linear substructures of the word vector space.\n",
    "\n",
    "GloVe is trained on approximately 300 million words worth of data from wikipedia, and common crawl books. So, it would be great to use these trained embeddings for the purpose of text classification."
   ]
  },
  {
   "cell_type": "code",
   "execution_count": 6,
   "metadata": {},
   "outputs": [
    {
     "name": "stdout",
     "output_type": "stream",
     "text": [
      "Size of TEXT vocabulary: 12722\n",
      "Size of LABEL vocabulary: 2\n",
      "[('#', 51906), (' ', 14131), ('  ', 13410), ('@user', 12198), ('!', 10027), ('.', 8378), ('the', 7176), ('to', 6903), ('i', 5186), ('a', 4488)]\n"
     ]
    }
   ],
   "source": [
    "TEXT.build_vocab(train_data,min_freq=2,vectors = \"glove.6B.100d\")  \n",
    "LABEL.build_vocab(train_data)\n",
    "\n",
    "#No. of unique tokens in text\n",
    "print(\"Size of TEXT vocabulary:\",len(TEXT.vocab))\n",
    "\n",
    "#No. of unique tokens in label\n",
    "print(\"Size of LABEL vocabulary:\",len(LABEL.vocab))\n",
    "\n",
    "#Commonly used words\n",
    "print(TEXT.vocab.freqs.most_common(10))  \n",
    "\n",
    "#Word dictionary\n",
    "# print(TEXT.vocab.stoi) "
   ]
  },
  {
   "cell_type": "markdown",
   "metadata": {},
   "source": [
    "The min_freq parameter in the `build_vocab` is to remove words having frequency less than that parameter and treat it as unknown. \n",
    "\n",
    "For this tutorial, we are using GloVe pretrained vectors. The weights for these vectors will be then initialized for the embedding layer in the model architecture. "
   ]
  },
  {
   "cell_type": "markdown",
   "metadata": {},
   "source": [
    "**DataLoader:**\n",
    "\n",
    "Handling variable-length sequences is very important in Natural Language Processing. As each sentence or datapoint may have different number of sentence, we convert the variable length input sentences into sentences with the same length by padding. We will look onto this more in the model architecture section.\n",
    "\n",
    "\n",
    "To prepare the batches for training, we will be using BucketIterator as it will form batches in such a way that there will be minimum amount of padding required.  "
   ]
  },
  {
   "cell_type": "code",
   "execution_count": 7,
   "metadata": {},
   "outputs": [],
   "source": [
    "#to check if GPU is available to be used.\n",
    "device = torch.device('cuda' if torch.cuda.is_available() else 'cpu')  \n",
    "\n",
    "#set batch size\n",
    "BATCH_SIZE = 256\n",
    "\n",
    "#Load an iterator\n",
    "train_iterator, valid_iterator = data.BucketIterator.splits(\n",
    "    (train_data, valid_data), \n",
    "    batch_size = BATCH_SIZE,\n",
    "    sort_key = lambda x: len(x.text),\n",
    "    sort_within_batch=True,\n",
    "    device = device)"
   ]
  },
  {
   "cell_type": "markdown",
   "metadata": {},
   "source": [
    "## Recurrent Neural Networks and Model Architecture"
   ]
  },
  {
   "cell_type": "markdown",
   "metadata": {},
   "source": [
    "**Recurrent Neural Networks** are a family of neural networks which are specially designed for Sequence modeling, text classification and text generation. These networks are useful for handling variable input sequence length and have an internal memory that allows the previous inputs (for the same datapoint) in time to affect the subsequent predictions. More information can be found here [https://en.wikipedia.org/wiki/Recurrent_neural_network].\n",
    "\n",
    "The **Long Short-Term Memory (LSTM)** neural network is a special variant of the RNN, which addresses some drawbacks of the vanilla RNNs. The RNNs suffer from bottleneck stability like vanishing gradients and have less memory retention properties. \n",
    "\n",
    "The LSTM cell contains three gates: input gate, output gate, and the forget gate which help the network to regulate the flow of information.  A separate memory cell represent by c, is maintained in LSTMs which help for longer memory retention. The LSTMs regulates the information by selectively adding information (input gate), removing (forget gate) or letting it to the next cell (output gate).\n",
    "\n",
    "This arrangement of gates and selective information control is also the key reason why LSTMs do not suffer from the vanishing gradient problem which plagued traditional RNNs. As a result, LSTMs are a powerful tool to model sequential datasets.\n",
    "\n",
    "![LSTM cell architecture](LSTM.PNG)"
   ]
  },
  {
   "cell_type": "markdown",
   "metadata": {},
   "source": [
    "**Model Architecture**\n",
    "\n",
    "In this section, we will try to explain the different layers required to design the forward pass of the network, necesssary for Text classification using Pytorch. \n",
    "\n",
    "\n",
    "**Embedding Layer:** Embeddings are an essential component for any NLP related tasks. As seen earlier, we convert the words into a numeric format wherein each unique word is assigned an index. However, we cannot use these numeric representations directly. If we convert these into one-hot encoding, then the input dimensional space we will huge. Embedding layers creates a look up take and converts the integer sequences into a dense vector representations. There are two important parameters for this layer:\n",
    "    1. vocab_size: Vocabulary size or number of unique words.\n",
    "    2. embedding_size: Size of the dense representations (Hyper-parameter)\n",
    "  \n",
    "  \n",
    "**Pack Padding:** Padding is required to the variable input size of the sequences. However, the input now possessess paddings which are treated as a piece of information and can mislead the models to predict some noise. Packed paddings ignores the input timesteps with a padding token. These values are never shown to the RNNs which helps in buidling a dynamic Neural Network.\n",
    " \n",
    " **LSTM:** As discussed earlier, LSTM is a special variant of RNN that have longer memory retention capacity. The important parameters for this layer are as follows:\n",
    "     1. input_size: Dimension of input\n",
    "     2. hidden_size: Hidden layer size\n",
    "     3. num_layers: Number of LSTM layers stacked \n",
    "     4. batch_first: Boolean, to see of the first dimension is batch_size or not.\n",
    "     5. dropout: If non-zero, introduces a Dropout layer on the outputs of each LSTM layer except the last layer, with dropout probability equal to dropout. Default: 0\n",
    "     6. Bidirection: if True, Bi-LSTM layers are used. \n",
    " \n",
    " \n",
    "**Fully connected layer:** This layer will take the outputs of the last hidden cell from LSTM and convert it to a size of num_classes. Since, it is a Binary Classification task, output size will be one and we will apply Sigmoid activation to it.\n",
    "\n",
    "\n",
    "![Model Architecture](Network.PNG)"
   ]
  },
  {
   "cell_type": "code",
   "execution_count": 8,
   "metadata": {},
   "outputs": [],
   "source": [
    "class Sentiment_Analysis(nn.Module):\n",
    "    def __init__(self,vocab_size, embedding_dim, hidden_dim,output_dim, n_layers,bidirectional, dropout):\n",
    "        super(Sentiment_Analysis,self).__init__()\n",
    "        \n",
    "        #Embedding layer\n",
    "        self.embedding_layer = nn.Embedding(vocab_size,embedding_size)\n",
    "        \n",
    "        #Lstm layers\n",
    "        self.lstm = nn.LSTM(embedding_dim,hidden_dim,num_layers=n_layers, \n",
    "                           bidirectional=bidirectional, dropout=dropout,batch_first=True)\n",
    "        \n",
    "        #Fully_connected layer\n",
    "        self.FC = nn.Linear(hidden_dim*2, output_dim)\n",
    "        \n",
    "        #Final activation function\n",
    "        self.act = nn.Sigmoid() \n",
    "    \n",
    "    def forward(self, text,text_lengths):\n",
    "        \n",
    "        #input will be (batch_size, sent_length)\n",
    "        embed = self.embedding_layer(text) #(batch_size, sent_length, embedding_size)\n",
    "        \n",
    "        \n",
    "        #Packed padded sequence to handle the varible sent_lengths\n",
    "        packed_embed = nn.utils.rnn.pack_padded_sequence(embed, text_lengths, batch_first = True)\n",
    "        \n",
    "        #LSTM \n",
    "        packed_output, (hidden,cell) = self.lstm(packed_embed)# (batch_size,packed_lenghts, 2*hidden)\n",
    "        \n",
    "        #concat the final forward and backward hidden state \n",
    "        hidden = torch.cat((hidden[-2,:,:],hidden[-1,:,:]), dim=1)\n",
    "        \n",
    "        out = self.FC(hidden)\n",
    "        \n",
    "        #Sigmoid activation\n",
    "        out = self.act(out)\n",
    "        \n",
    "        return out"
   ]
  },
  {
   "cell_type": "markdown",
   "metadata": {},
   "source": [
    "**Initialization**: Lets initialize the model, criterion and optimizer for this tutorial."
   ]
  },
  {
   "cell_type": "code",
   "execution_count": 9,
   "metadata": {},
   "outputs": [],
   "source": [
    "vocab_size = len(TEXT.vocab)\n",
    "embedding_size = 100 # needs to be 100 because pretrained weights are of size 100.\n",
    "hidden_size = 128\n",
    "num_classes = 1\n",
    "num_layers = 2\n",
    "bidirectional = True\n",
    "dropout =0.2\n",
    "\n",
    "model = Sentiment_Analysis(vocab_size,embedding_size,hidden_size,num_classes,num_layers,bidirectional, dropout)\n",
    "model = model.to(device)"
   ]
  },
  {
   "cell_type": "markdown",
   "metadata": {},
   "source": [
    "For the purpose of this tutorial, we will be using Adam Optimizer and Binary Cross Entropy.\n",
    "\n",
    "SGD and Adagrad can also be used but Adam is used because of it is faster. More details about this can be found on this blogpost [https://towardsdatascience.com/optimizers-for-training-neural-network-59450d71caf6]"
   ]
  },
  {
   "cell_type": "code",
   "execution_count": 10,
   "metadata": {},
   "outputs": [],
   "source": [
    "optimizer = optim.Adam(model.parameters(), lr=0.0005)\n",
    "criterion = nn.BCELoss()"
   ]
  },
  {
   "cell_type": "markdown",
   "metadata": {},
   "source": [
    "Since, we are going to use `GloVe` pretrained models, we will initalize the embedding layer weights with these pretrained weights in the following cell. Note that, embedding size is 100 because the pretrained weights are of size (Vocab_size,100)."
   ]
  },
  {
   "cell_type": "code",
   "execution_count": 11,
   "metadata": {},
   "outputs": [
    {
     "name": "stdout",
     "output_type": "stream",
     "text": [
      "torch.Size([12722, 100])\n"
     ]
    }
   ],
   "source": [
    "pretrained_embeddings = TEXT.vocab.vectors\n",
    "model.embedding_layer.weight.data.copy_(pretrained_embeddings)\n",
    "print(pretrained_embeddings.shape)"
   ]
  },
  {
   "cell_type": "markdown",
   "metadata": {},
   "source": [
    "## Train and evaluate"
   ]
  },
  {
   "cell_type": "markdown",
   "metadata": {},
   "source": [
    "Now that we have design the model and hyper-parameters, its time we develop the training and evaluation function for our model. \n",
    "\n",
    "**Training loop:** The training loop will train the parameters of the network for each epoch and return the training accuracy and loss. \n",
    "\n",
    "**Evaulation loop:** The evaluation loop will validate the model on the validation set and return the validation accuracy and loss."
   ]
  },
  {
   "cell_type": "code",
   "execution_count": 12,
   "metadata": {},
   "outputs": [],
   "source": [
    "def train(model, iterator, optimizer, criterion):\n",
    "    \n",
    "    #initialize every epoch \n",
    "    epoch_loss = []\n",
    "    epoch_acc = []\n",
    "    \n",
    "    #set the model in training phase\n",
    "    model.train()  \n",
    "    \n",
    "    for batch in iterator:\n",
    "        \n",
    "        #resets the gradients after every batch\n",
    "        optimizer.zero_grad()   \n",
    "        \n",
    "        #retrieve text and no. of words\n",
    "        text, text_lengths = batch.text   \n",
    "        \n",
    "        #convert to 1D tensor\n",
    "        predictions = model(text, text_lengths).squeeze()  \n",
    "        \n",
    "        #compute the loss\n",
    "        loss = criterion(predictions, batch.label)        \n",
    "        \n",
    "        #compute the binary accuracy\n",
    "        rounded_preds = torch.round(predictions)\n",
    "    \n",
    "        correct = (rounded_preds == batch.label).float() \n",
    "        acc = correct.sum() / len(correct)\n",
    "          \n",
    "        \n",
    "        #backpropage the loss and compute the gradients\n",
    "        loss.backward()       \n",
    "        \n",
    "        #update the weights\n",
    "        optimizer.step()      \n",
    "        \n",
    "        #loss and accuracy\n",
    "        epoch_loss.append(loss.item())  \n",
    "        epoch_acc.append(acc.item())\n",
    "        \n",
    "    return (sum(epoch_loss)/len(epoch_loss)), (sum(epoch_acc)/len(epoch_acc))"
   ]
  },
  {
   "cell_type": "code",
   "execution_count": 13,
   "metadata": {},
   "outputs": [],
   "source": [
    "def evaluate(model, iterator, criterion):\n",
    "    \n",
    "    #initialize every epoch\n",
    "    epoch_loss = []\n",
    "    epoch_acc = []\n",
    "\n",
    "    #deactivating dropout layers\n",
    "    model.eval()\n",
    "    \n",
    "    for batch in iterator:\n",
    "\n",
    "        #retrieve text and no. of words\n",
    "        text, text_lengths = batch.text\n",
    "\n",
    "        #convert to 1d tensor\n",
    "        predictions = model(text, text_lengths).squeeze()\n",
    "\n",
    "        #compute loss and accuracy\n",
    "        loss = criterion(predictions, batch.label)\n",
    "        rounded_preds = torch.round(predictions)\n",
    "    \n",
    "        correct = (rounded_preds == batch.label).float() \n",
    "        acc = correct.sum() / len(correct)\n",
    "\n",
    "        #keep track of loss and accuracy\n",
    "        epoch_loss.append(loss.item())  \n",
    "        epoch_acc.append(acc.item())   \n",
    "        \n",
    "    return (sum(epoch_loss)/len(epoch_loss)), (sum(epoch_acc)/len(epoch_acc))"
   ]
  },
  {
   "cell_type": "markdown",
   "metadata": {},
   "source": [
    "Now, we will write the `main function` that will train and evaluate model for 10 epochs. We will save the train and validation loss as well as accuracy for plotting the curves in the next section."
   ]
  },
  {
   "cell_type": "code",
   "execution_count": 14,
   "metadata": {},
   "outputs": [
    {
     "name": "stdout",
     "output_type": "stream",
     "text": [
      "Epoch Number :  0\n",
      "\tTrain Loss: 0.283 | Train Acc: 92.85%\n",
      "\t Val. Loss: 0.208 |  Val. Acc: 93.28%\n",
      "====================================================================================================\n",
      "Epoch Number :  1\n",
      "\tTrain Loss: 0.161 | Train Acc: 93.99%\n",
      "\t Val. Loss: 0.138 |  Val. Acc: 95.09%\n",
      "====================================================================================================\n",
      "Epoch Number :  2\n",
      "\tTrain Loss: 0.115 | Train Acc: 95.64%\n",
      "\t Val. Loss: 0.116 |  Val. Acc: 95.67%\n",
      "====================================================================================================\n",
      "Epoch Number :  3\n",
      "\tTrain Loss: 0.090 | Train Acc: 96.60%\n",
      "\t Val. Loss: 0.122 |  Val. Acc: 95.92%\n",
      "====================================================================================================\n",
      "Epoch Number :  4\n",
      "\tTrain Loss: 0.071 | Train Acc: 97.50%\n",
      "\t Val. Loss: 0.104 |  Val. Acc: 96.36%\n",
      "====================================================================================================\n",
      "Epoch Number :  5\n",
      "\tTrain Loss: 0.059 | Train Acc: 98.04%\n",
      "\t Val. Loss: 0.109 |  Val. Acc: 96.75%\n",
      "====================================================================================================\n",
      "Epoch Number :  6\n",
      "\tTrain Loss: 0.044 | Train Acc: 98.49%\n",
      "\t Val. Loss: 0.097 |  Val. Acc: 96.78%\n",
      "====================================================================================================\n",
      "Epoch Number :  7\n",
      "\tTrain Loss: 0.034 | Train Acc: 98.92%\n",
      "\t Val. Loss: 0.122 |  Val. Acc: 96.68%\n",
      "====================================================================================================\n",
      "Epoch Number :  8\n",
      "\tTrain Loss: 0.028 | Train Acc: 99.01%\n",
      "\t Val. Loss: 0.124 |  Val. Acc: 97.04%\n",
      "====================================================================================================\n",
      "Epoch Number :  9\n",
      "\tTrain Loss: 0.031 | Train Acc: 99.05%\n",
      "\t Val. Loss: 0.102 |  Val. Acc: 97.08%\n",
      "====================================================================================================\n"
     ]
    }
   ],
   "source": [
    "#Main function\n",
    "\n",
    "if __name__ == '__main__':\n",
    "    N_EPOCHS = 10\n",
    "    training_loss = []\n",
    "    training_accuracy = []\n",
    "    \n",
    "    val_loss = []\n",
    "    val_accuracy = []\n",
    "    \n",
    "    for epoch in range(N_EPOCHS):\n",
    "        print('Epoch Number : ',epoch)\n",
    "        #train the model\n",
    "        train_loss, train_acc = train(model, train_iterator, optimizer, criterion)\n",
    "        training_loss.append(train_loss)\n",
    "        training_accuracy.append(train_acc)\n",
    "        print(f'\\tTrain Loss: {train_loss:.3f} | Train Acc: {train_acc*100:.2f}%')\n",
    "\n",
    "        #evaluate the model\n",
    "        valid_loss, valid_acc = evaluate(model, valid_iterator, criterion)\n",
    "        val_loss.append(valid_loss)\n",
    "        val_accuracy.append(valid_acc)\n",
    "        print(f'\\t Val. Loss: {valid_loss:.3f} |  Val. Acc: {valid_acc*100:.2f}%')\n",
    "        ##For readibility\n",
    "        print('=='*50)\n",
    "\n",
    "    \n",
    "    "
   ]
  },
  {
   "cell_type": "markdown",
   "metadata": {},
   "source": [
    "## Visualizations"
   ]
  },
  {
   "cell_type": "markdown",
   "metadata": {},
   "source": [
    "Here, we will create the loss and accuracy curves for the training and validation sets. Many visualizations can be added such as confusion matrix heat map, ROC curve etc. \n",
    "\n",
    "We will be using Matplotlib library"
   ]
  },
  {
   "cell_type": "code",
   "execution_count": 15,
   "metadata": {},
   "outputs": [],
   "source": [
    "import matplotlib.pyplot as plt\n",
    "%matplotlib inline"
   ]
  },
  {
   "cell_type": "code",
   "execution_count": 16,
   "metadata": {},
   "outputs": [
    {
     "data": {
      "image/png": "[encoded data removed]",
      "text/plain": [
       "<Figure size 432x288 with 1 Axes>"
      ]
     },
     "metadata": {
      "needs_background": "light"
     },
     "output_type": "display_data"
    },
    {
     "data": {
      "image/png": "[encoded data removed]",
      "text/plain": [
       "<Figure size 432x288 with 1 Axes>"
      ]
     },
     "metadata": {
      "needs_background": "light"
     },
     "output_type": "display_data"
    },
    {
     "data": {
      "image/png": "[encoded data removed]",
      "text/plain": [
       "<Figure size 432x288 with 1 Axes>"
      ]
     },
     "metadata": {
      "needs_background": "light"
     },
     "output_type": "display_data"
    },
    {
     "data": {
      "image/png": "[encoded data removed]",
      "text/plain": [
       "<Figure size 432x288 with 1 Axes>"
      ]
     },
     "metadata": {
      "needs_background": "light"
     },
     "output_type": "display_data"
    }
   ],
   "source": [
    "#Training loss graph\n",
    "plt.plot(training_loss)\n",
    "plt.title('Training loss over epochs')\n",
    "plt.xlabel('Epoch number')\n",
    "plt.ylabel('Training loss')\n",
    "plt.show()\n",
    "\n",
    "#Training acc graph\n",
    "plt.plot(training_accuracy)\n",
    "plt.title('Training accuracy over epochs')\n",
    "plt.xlabel('Epoch number')\n",
    "plt.ylabel('Training accuracy')\n",
    "plt.show()\n",
    "\n",
    "#Validation loss graph\n",
    "plt.plot(val_loss)\n",
    "plt.title('Validation loss over epochs')\n",
    "plt.xlabel('Epoch number')\n",
    "plt.ylabel('Validation loss')\n",
    "plt.show()\n",
    "\n",
    "#Validation acc graph\n",
    "plt.plot(val_accuracy)\n",
    "plt.title('Validation accuracy over epochs')\n",
    "plt.xlabel('Epoch number')\n",
    "plt.ylabel('Validation accuracy')\n",
    "plt.show()"
   ]
  },
  {
   "cell_type": "markdown",
   "metadata": {},
   "source": [
    "As we have only trained for five epochs, we can see that the loss curves are not monotonically decreasing always. The purpose of this tutorial was to give a basic idea about the torchtext library and training of LSTM models using Pytorch. Further, optimizing the model and fine-tuning the hyperparameters can give better results."
   ]
  },
  {
   "cell_type": "markdown",
   "metadata": {},
   "source": [
    "## Summary and References\n",
    "\n",
    "This tutorial highlighted just a few elements of Text analysis using the Torchtext library from Pytorch. Following links provide more details about the libraries discussed here.\n",
    "\n",
    "1. Pytorch documentation: https://pytorch.org/docs/stable/index.html\n",
    "2. Pytorch tutorials: https://pytorch.org/tutorials/\n",
    "3. PyTorch Tutorial for Deep Learning Researchers: https://github.com/yunjey/pytorch-tutorial\n",
    "4. Torchtext Documentation: https://pytorch.org/text/stable/index.html\n",
    "5. Torchtext Installation: https://pypi.org/project/torchtext/\n",
    "6. LSTM : https://cnvrg.io/pytorch-lstm/\n",
    "7. Twitter sentiment analysis dataset: https://www.kaggle.com/arkhoshghalb/twitter-sentiment-analysis-hatred-speech?select=train.csv\n",
    "8. Packed padded sequence: https://stackoverflow.com/questions/51030782/why-do-we-pack-the-sequences-in-pytorch\n",
    "9. GloVe: https://nlp.stanford.edu/projects/glove/"
   ]
  },
  {
   "cell_type": "code",
   "execution_count": null,
   "metadata": {},
   "outputs": [],
   "source": []
  }
 ],
 "metadata": {
  "kernelspec": {
   "display_name": "Python 3",
   "language": "python",
   "name": "python3"
  },
  "language_info": {
   "codemirror_mode": {
    "name": "ipython",
    "version": 3
   },
   "file_extension": ".py",
   "mimetype": "text/x-python",
   "name": "python",
   "nbconvert_exporter": "python",
   "pygments_lexer": "ipython3",
   "version": "3.7.4"
  }
 },
 "nbformat": 4,
 "nbformat_minor": 2
}
